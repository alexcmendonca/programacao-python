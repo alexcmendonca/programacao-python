{
  "nbformat": 4,
  "nbformat_minor": 0,
  "metadata": {
    "colab": {
      "provenance": [],
      "toc_visible": true
    },
    "kernelspec": {
      "name": "python3",
      "display_name": "Python 3"
    }
  },
  "cells": [
    {
      "cell_type": "markdown",
      "metadata": {
        "id": "KJqp9AANOCtf"
      },
      "source": [
        "<img src=\"https://raw.githubusercontent.com/andre-marcos-perez/ebac-course-utils/main/media/logo/newebac_logo_black_half.png\" alt=\"ebac-logo\">\n",
        "\n",
        "---\n",
        "\n",
        "# **Módulo** | Python: Variáveis & Tipos de Dados\n",
        "Caderno de **Exercícios**<br>\n",
        "Professor [André Perez](https://www.linkedin.com/in/andremarcosperez/)\n",
        "\n",
        "---"
      ]
    },
    {
      "cell_type": "markdown",
      "metadata": {
        "id": "d9jDtUbDOE1-"
      },
      "source": [
        "# **Tópicos**\n",
        "\n",
        "<ol type=\"1\">\n",
        "  <li>Introdução ao Google Colab;</li>\n",
        "  <li>Variáveis;</li>\n",
        "  <li>Números;</li>\n",
        "  <li><i>Strings;</i></li>\n",
        "  <li>Boleanos.</li>\n",
        "</ol>"
      ]
    },
    {
      "cell_type": "markdown",
      "metadata": {
        "id": "SmoHgt-lwkpD"
      },
      "source": [
        "---"
      ]
    },
    {
      "cell_type": "markdown",
      "metadata": {
        "id": "GABI6OW8OfQ2"
      },
      "source": [
        "# **Exercícios**"
      ]
    },
    {
      "cell_type": "markdown",
      "metadata": {
        "id": "muD1vxozykSC"
      },
      "source": [
        "## 1\\. Google Colab"
      ]
    },
    {
      "cell_type": "markdown",
      "metadata": {
        "id": "ahrFfCuBxJKs"
      },
      "source": [
        "Crie uma célula de código que escreva o texto \"Olá mundo!\", utilize o comando `print`."
      ]
    },
    {
      "cell_type": "code",
      "source": [
        "print('Olá mundo!')"
      ],
      "metadata": {
        "colab": {
          "base_uri": "https://localhost:8080/"
        },
        "id": "Am71vRsYrS7P",
        "outputId": "3f2d07b6-2689-42fe-a385-2d304096d70d"
      },
      "execution_count": 1,
      "outputs": [
        {
          "output_type": "stream",
          "name": "stdout",
          "text": [
            "Olá mundo!\n"
          ]
        }
      ]
    },
    {
      "cell_type": "markdown",
      "metadata": {
        "id": "KI9zQRT2xa7m"
      },
      "source": [
        "Crie uma célua de texto e adicione uma imagem."
      ]
    },
    {
      "cell_type": "markdown",
      "source": [
        "![img-exercicio.webp](data:image/webp;base64,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)"
      ],
      "metadata": {
        "id": "9Rmp_dvErk9p"
      }
    },
    {
      "cell_type": "markdown",
      "metadata": {
        "id": "zMN1Q3jdwoJm"
      },
      "source": [
        "---"
      ]
    },
    {
      "cell_type": "markdown",
      "metadata": {
        "id": "tFYOPLS3xiwe"
      },
      "source": [
        "## 2\\. Números"
      ]
    },
    {
      "cell_type": "markdown",
      "metadata": {
        "id": "O2G9gt7tx2c-"
      },
      "source": [
        "Preencha as células de código para preencher os valores de (A), (B) e (C) na tabela de ticket médio abaixo:\n",
        "\n",
        "<br>\n",
        "\n",
        "| Dia   | Valor Total Vendas | Qtd Total Vendas | Ticket Medio |\n",
        "|-------|--------------------|------------------|--------------|\n",
        "| 19/01 | (A)                | 3                | 320.52       |\n",
        "| 20/01 | 834.47             | (B)              | 119.21       |\n",
        "| 23/01 | 15378.12           | 5                | (C)          |"
      ]
    },
    {
      "cell_type": "code",
      "metadata": {
        "id": "nsrKH9EizNRD"
      },
      "source": [
        "# (A)\n",
        "vl_total_vendas = 961,56"
      ],
      "execution_count": null,
      "outputs": []
    },
    {
      "cell_type": "code",
      "metadata": {
        "id": "QQ1GBGHJzMmi"
      },
      "source": [
        "# (B)\n",
        "qtde_total_vendas = 7"
      ],
      "execution_count": null,
      "outputs": []
    },
    {
      "cell_type": "code",
      "metadata": {
        "id": "W-li0nSMzKNa"
      },
      "source": [
        "# (C)\n",
        "ticket_medio = 3075.62"
      ],
      "execution_count": null,
      "outputs": []
    },
    {
      "cell_type": "markdown",
      "metadata": {
        "id": "3eoP-Vj9yzh8"
      },
      "source": [
        "---"
      ]
    },
    {
      "cell_type": "markdown",
      "metadata": {
        "id": "yUJ6kdony6Pr"
      },
      "source": [
        "## 3\\. Strings"
      ]
    },
    {
      "cell_type": "markdown",
      "metadata": {
        "id": "KDuZpg-5zCvO"
      },
      "source": [
        "Aplique três métodos distintos na *string* abaixo, você pode conferir alguns métodos neste [link](https://www.w3schools.com/python/python_ref_string.asp):"
      ]
    },
    {
      "cell_type": "code",
      "metadata": {
        "id": "k9zbyf7BzjKj"
      },
      "source": [
        "cancao = 'Roda mundo, roda gigante, roda moinho, roda pião.'"
      ],
      "execution_count": 2,
      "outputs": []
    },
    {
      "cell_type": "code",
      "source": [
        "busca = cancao.find('moinho')\n",
        "print(busca)"
      ],
      "metadata": {
        "colab": {
          "base_uri": "https://localhost:8080/"
        },
        "id": "OWAD8j_ytqFe",
        "outputId": "f9e451e8-b221-4064-a214-ee96e6d4ea55"
      },
      "execution_count": 7,
      "outputs": [
        {
          "output_type": "stream",
          "name": "stdout",
          "text": [
            "31\n"
          ]
        }
      ]
    },
    {
      "cell_type": "code",
      "source": [
        "print(cancao.count('roda'))"
      ],
      "metadata": {
        "colab": {
          "base_uri": "https://localhost:8080/"
        },
        "id": "i05SIZQ2xyGT",
        "outputId": "eeeab69e-78ea-4a2a-e33a-c77d7e37040c"
      },
      "execution_count": 5,
      "outputs": [
        {
          "output_type": "stream",
          "name": "stdout",
          "text": [
            "3\n"
          ]
        }
      ]
    },
    {
      "cell_type": "code",
      "source": [
        "print(cancao.upper())"
      ],
      "metadata": {
        "colab": {
          "base_uri": "https://localhost:8080/"
        },
        "id": "hCai40ZeyHqO",
        "outputId": "feab24ac-6b63-4fb3-9c4c-2ecf9e7d987c"
      },
      "execution_count": 6,
      "outputs": [
        {
          "output_type": "stream",
          "name": "stdout",
          "text": [
            "RODA MUNDO, RODA GIGANTE, RODA MOINHO, RODA PIÃO.\n"
          ]
        }
      ]
    },
    {
      "cell_type": "markdown",
      "metadata": {
        "id": "guZMHXVq0FnC"
      },
      "source": [
        "Extraia da string abaixo o valor da taxa **selic** na variável `selic` e o valor do **ano** na variavel `ano`. Imprima os valores na tela."
      ]
    },
    {
      "cell_type": "code",
      "metadata": {
        "id": "cbx_P4IQ0agK",
        "colab": {
          "base_uri": "https://localhost:8080/"
        },
        "outputId": "a8c5511a-2598-40fc-df60-a5e2ec1f134b"
      },
      "source": [
        "noticia = 'Selic vai a 2,75% e supera expectativas; é a primeira alta em 6 anos.'\n",
        "\n",
        "busca_noticia = noticia.find('%')\n",
        "print(busca_noticia)"
      ],
      "execution_count": 8,
      "outputs": [
        {
          "output_type": "stream",
          "name": "stdout",
          "text": [
            "16\n"
          ]
        }
      ]
    },
    {
      "cell_type": "code",
      "source": [
        "selic = noticia[12:16]\n",
        "print(selic)"
      ],
      "metadata": {
        "colab": {
          "base_uri": "https://localhost:8080/"
        },
        "id": "Ez40sFIJ5J4Y",
        "outputId": "4968c651-d609-4521-ee1c-d37ab21dc091"
      },
      "execution_count": 9,
      "outputs": [
        {
          "output_type": "stream",
          "name": "stdout",
          "text": [
            "2,75\n"
          ]
        }
      ]
    },
    {
      "cell_type": "code",
      "source": [
        "ano = noticia[-7]\n",
        "print(ano)"
      ],
      "metadata": {
        "colab": {
          "base_uri": "https://localhost:8080/"
        },
        "id": "M_5Xr_5ezvh3",
        "outputId": "0c8b4cc3-4977-43d4-b6c2-a97311d1dd39"
      },
      "execution_count": 10,
      "outputs": [
        {
          "output_type": "stream",
          "name": "stdout",
          "text": [
            "6\n"
          ]
        }
      ]
    },
    {
      "cell_type": "markdown",
      "metadata": {
        "id": "wWzbu-OC0z3L"
      },
      "source": [
        "---"
      ]
    },
    {
      "cell_type": "markdown",
      "metadata": {
        "id": "no8w_Ati01xP"
      },
      "source": [
        "## 4\\. Booleanos"
      ]
    },
    {
      "cell_type": "markdown",
      "metadata": {
        "id": "D_0tC3SC099N"
      },
      "source": [
        "Utilize a tabela da verdade para responder: qual o valor da variável x?"
      ]
    },
    {
      "cell_type": "code",
      "metadata": {
        "id": "XwIEbxf91SpU"
      },
      "source": [
        "a = False\n",
        "b = True\n",
        "\n",
        "x = not a & b"
      ],
      "execution_count": 11,
      "outputs": []
    },
    {
      "cell_type": "code",
      "source": [
        "# Tabela da verdade\n",
        "print(True & True)\n",
        "print(True & False)\n",
        "print(False & False)\n",
        "print(False & True)"
      ],
      "metadata": {
        "colab": {
          "base_uri": "https://localhost:8080/"
        },
        "id": "fFr0NNpo6u_1",
        "outputId": "046c1784-0729-4526-cd5c-1fd55a2dbbfb"
      },
      "execution_count": 12,
      "outputs": [
        {
          "output_type": "stream",
          "name": "stdout",
          "text": [
            "True\n",
            "False\n",
            "False\n",
            "False\n"
          ]
        }
      ]
    },
    {
      "cell_type": "code",
      "source": [
        "print(x)"
      ],
      "metadata": {
        "colab": {
          "base_uri": "https://localhost:8080/"
        },
        "id": "_i028qof65w7",
        "outputId": "33c5274f-13e6-4c2e-99a0-8ed7aa3058b3"
      },
      "execution_count": 13,
      "outputs": [
        {
          "output_type": "stream",
          "name": "stdout",
          "text": [
            "True\n"
          ]
        }
      ]
    }
  ]
}